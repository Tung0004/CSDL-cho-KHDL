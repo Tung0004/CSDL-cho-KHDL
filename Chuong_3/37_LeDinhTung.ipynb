{
 "cells": [
  {
   "cell_type": "code",
   "execution_count": 1,
   "id": "7ac42720",
   "metadata": {},
   "outputs": [],
   "source": [
    "import sqlite3\n",
    "import pandas as pd\n",
    "from itertools import combinations\n",
    "from scipy.stats import chi2_contingency"
   ]
  },
  {
   "cell_type": "markdown",
   "id": "dbab51ae",
   "metadata": {},
   "source": [
    "### Tạo kết nối"
   ]
  },
  {
   "cell_type": "code",
   "execution_count": 2,
   "id": "58f8c6f5",
   "metadata": {},
   "outputs": [],
   "source": [
    "# Tạo kết nối tới SQLite\n",
    "conn = sqlite3.connect(\":memory:\")\n",
    "cur = conn.cursor()"
   ]
  },
  {
   "cell_type": "markdown",
   "id": "36ea6ee3",
   "metadata": {},
   "source": [
    "### C1"
   ]
  },
  {
   "cell_type": "code",
   "execution_count": 3,
   "id": "ea03599c",
   "metadata": {},
   "outputs": [
    {
     "name": "stdout",
     "output_type": "stream",
     "text": [
      "Pearson r_AB = 0.6911\n"
     ]
    }
   ],
   "source": [
    "# Tạo bảng dữ liệu A, B\n",
    "cur.execute('''\n",
    "create table scores (\n",
    "    id integer primary key,\n",
    "    A real,\n",
    "    B real\n",
    ")\n",
    "''')\n",
    "data = [\n",
    "    (1, 8, 9),\n",
    "    (2, 7.5, 8.5),\n",
    "    (3, 6, 7),\n",
    "    (4, 7, 6)\n",
    "]\n",
    "cur.executemany('insert into scores (id, A, B) values (?, ?, ?)', data)\n",
    "\n",
    "query = '''\n",
    "select\n",
    "    (count(*) * sum(A * B) - sum(A) * sum(B)) /\n",
    "    (sqrt(count(*) * sum(A*A) - sum(A)*sum(A)) * sqrt(count(*) * sum(B*B) - sum(B)*sum(B))) AS r_ab\n",
    "FROM scores\n",
    "'''\n",
    "r_ab = cur.execute(query).fetchone()[0]\n",
    "print(\"Pearson r_AB =\", round(r_ab, 4))\n"
   ]
  },
  {
   "cell_type": "markdown",
   "id": "2ea3f379",
   "metadata": {},
   "source": [
    "### C2"
   ]
  },
  {
   "cell_type": "code",
   "execution_count": 4,
   "id": "f09a141d",
   "metadata": {},
   "outputs": [
    {
     "data": {
      "text/plain": [
       "<sqlite3.Cursor at 0x25aa82ba140>"
      ]
     },
     "execution_count": 4,
     "metadata": {},
     "output_type": "execute_result"
    }
   ],
   "source": [
    "# Tạo bảng test_scores\n",
    "cur.execute('''\n",
    "create table test_scores (\n",
    "    Day text,\n",
    "    A real,\n",
    "    B real,\n",
    "    C real\n",
    ")\n",
    "''')\n",
    "\n",
    "# Chèn dữ liệu\n",
    "test_data = [\n",
    "    ('Day 1', 8, 9, 7),\n",
    "    ('Day 2', 7.5, 8.5, 7),\n",
    "    ('Day 3', 6, 7, 8),\n",
    "    ('Day 4', 7, 6, 5)\n",
    "]\n",
    "cur.executemany('insert into test_scores values (?, ?, ?, ?)', test_data)\n"
   ]
  },
  {
   "cell_type": "code",
   "execution_count": 5,
   "id": "a7d10739",
   "metadata": {},
   "outputs": [
    {
     "name": "stdout",
     "output_type": "stream",
     "text": [
      "Dữ liệu ở dạng quan hệ (long format):\n",
      "\n"
     ]
    },
    {
     "data": {
      "text/html": [
       "<div>\n",
       "<style scoped>\n",
       "    .dataframe tbody tr th:only-of-type {\n",
       "        vertical-align: middle;\n",
       "    }\n",
       "\n",
       "    .dataframe tbody tr th {\n",
       "        vertical-align: top;\n",
       "    }\n",
       "\n",
       "    .dataframe thead th {\n",
       "        text-align: right;\n",
       "    }\n",
       "</style>\n",
       "<table border=\"1\" class=\"dataframe\">\n",
       "  <thead>\n",
       "    <tr style=\"text-align: right;\">\n",
       "      <th></th>\n",
       "      <th>Day</th>\n",
       "      <th>Model</th>\n",
       "      <th>Score</th>\n",
       "    </tr>\n",
       "  </thead>\n",
       "  <tbody>\n",
       "    <tr>\n",
       "      <th>0</th>\n",
       "      <td>Day 1</td>\n",
       "      <td>A</td>\n",
       "      <td>8.0</td>\n",
       "    </tr>\n",
       "    <tr>\n",
       "      <th>1</th>\n",
       "      <td>Day 2</td>\n",
       "      <td>A</td>\n",
       "      <td>7.5</td>\n",
       "    </tr>\n",
       "    <tr>\n",
       "      <th>2</th>\n",
       "      <td>Day 3</td>\n",
       "      <td>A</td>\n",
       "      <td>6.0</td>\n",
       "    </tr>\n",
       "    <tr>\n",
       "      <th>3</th>\n",
       "      <td>Day 4</td>\n",
       "      <td>A</td>\n",
       "      <td>7.0</td>\n",
       "    </tr>\n",
       "    <tr>\n",
       "      <th>4</th>\n",
       "      <td>Day 1</td>\n",
       "      <td>B</td>\n",
       "      <td>9.0</td>\n",
       "    </tr>\n",
       "    <tr>\n",
       "      <th>5</th>\n",
       "      <td>Day 2</td>\n",
       "      <td>B</td>\n",
       "      <td>8.5</td>\n",
       "    </tr>\n",
       "    <tr>\n",
       "      <th>6</th>\n",
       "      <td>Day 3</td>\n",
       "      <td>B</td>\n",
       "      <td>7.0</td>\n",
       "    </tr>\n",
       "    <tr>\n",
       "      <th>7</th>\n",
       "      <td>Day 4</td>\n",
       "      <td>B</td>\n",
       "      <td>6.0</td>\n",
       "    </tr>\n",
       "    <tr>\n",
       "      <th>8</th>\n",
       "      <td>Day 1</td>\n",
       "      <td>C</td>\n",
       "      <td>7.0</td>\n",
       "    </tr>\n",
       "    <tr>\n",
       "      <th>9</th>\n",
       "      <td>Day 2</td>\n",
       "      <td>C</td>\n",
       "      <td>7.0</td>\n",
       "    </tr>\n",
       "    <tr>\n",
       "      <th>10</th>\n",
       "      <td>Day 3</td>\n",
       "      <td>C</td>\n",
       "      <td>8.0</td>\n",
       "    </tr>\n",
       "    <tr>\n",
       "      <th>11</th>\n",
       "      <td>Day 4</td>\n",
       "      <td>C</td>\n",
       "      <td>5.0</td>\n",
       "    </tr>\n",
       "  </tbody>\n",
       "</table>\n",
       "</div>"
      ],
      "text/plain": [
       "      Day Model  Score\n",
       "0   Day 1     A    8.0\n",
       "1   Day 2     A    7.5\n",
       "2   Day 3     A    6.0\n",
       "3   Day 4     A    7.0\n",
       "4   Day 1     B    9.0\n",
       "5   Day 2     B    8.5\n",
       "6   Day 3     B    7.0\n",
       "7   Day 4     B    6.0\n",
       "8   Day 1     C    7.0\n",
       "9   Day 2     C    7.0\n",
       "10  Day 3     C    8.0\n",
       "11  Day 4     C    5.0"
      ]
     },
     "execution_count": 5,
     "metadata": {},
     "output_type": "execute_result"
    }
   ],
   "source": [
    "# Chuyển đổi dữ liệu\n",
    "query_long_format = '''\n",
    "    select Day, 'A' as Model, A as Score from test_scores\n",
    "    union all\n",
    "    select Day, 'B', B from test_scores\n",
    "    union all\n",
    "    select Day, 'C', C from test_scores\n",
    "'''\n",
    "\n",
    "df_long = pd.read_sql_query(query_long_format, conn)\n",
    "\n",
    "# Hiển thị kết quả sau khi chuyển đổi\n",
    "print(\"Dữ liệu ở dạng quan hệ (long format):\\n\")\n",
    "df_long"
   ]
  },
  {
   "cell_type": "code",
   "execution_count": 6,
   "id": "1cc401c3",
   "metadata": {},
   "outputs": [
    {
     "name": "stdout",
     "output_type": "stream",
     "text": [
      "Chi-squared: 0.0000\n",
      "p-value    : 1.0000\n",
      "Bậc tự do  : 6\n",
      "==> Kết luận: Không có sự khác biệt đáng kể giữa các nhóm.\n"
     ]
    }
   ],
   "source": [
    "# Tạo bảng tần suất chéo giữa 'Day' và 'Model'\n",
    "contingency = pd.crosstab(df_long['Day'], df_long['Model'])\n",
    "\n",
    "# Thực hiện kiểm định Chi-squared\n",
    "chi2, p, df, expected = chi2_contingency(contingency)\n",
    "\n",
    "# Hiển thị kết quả\n",
    "print(f\"Chi-squared: {chi2:.4f}\")\n",
    "print(f\"p-value    : {p:.4f}\")\n",
    "print(f\"Bậc tự do  : {df}\")\n",
    "print(\"==> Kết luận:\", \"Có sự khác biệt đáng kể giữa các nhóm.\" if p < 0.05 else \"Không có sự khác biệt đáng kể giữa các nhóm.\")\n"
   ]
  },
  {
   "cell_type": "markdown",
   "id": "0b3cd193",
   "metadata": {},
   "source": [
    "### C3"
   ]
  },
  {
   "cell_type": "code",
   "execution_count": 7,
   "id": "74f9a969",
   "metadata": {},
   "outputs": [
    {
     "data": {
      "text/html": [
       "<div>\n",
       "<style scoped>\n",
       "    .dataframe tbody tr th:only-of-type {\n",
       "        vertical-align: middle;\n",
       "    }\n",
       "\n",
       "    .dataframe tbody tr th {\n",
       "        vertical-align: top;\n",
       "    }\n",
       "\n",
       "    .dataframe thead th {\n",
       "        text-align: right;\n",
       "    }\n",
       "</style>\n",
       "<table border=\"1\" class=\"dataframe\">\n",
       "  <thead>\n",
       "    <tr style=\"text-align: right;\">\n",
       "      <th></th>\n",
       "      <th>flight_id</th>\n",
       "      <th>departure_time</th>\n",
       "      <th>formatted_time</th>\n",
       "    </tr>\n",
       "  </thead>\n",
       "  <tbody>\n",
       "    <tr>\n",
       "      <th>0</th>\n",
       "      <td>1</td>\n",
       "      <td>830</td>\n",
       "      <td>08:30</td>\n",
       "    </tr>\n",
       "    <tr>\n",
       "      <th>1</th>\n",
       "      <td>2</td>\n",
       "      <td>1445</td>\n",
       "      <td>14:45</td>\n",
       "    </tr>\n",
       "    <tr>\n",
       "      <th>2</th>\n",
       "      <td>3</td>\n",
       "      <td>120</td>\n",
       "      <td>01:20</td>\n",
       "    </tr>\n",
       "    <tr>\n",
       "      <th>3</th>\n",
       "      <td>4</td>\n",
       "      <td>2359</td>\n",
       "      <td>23:59</td>\n",
       "    </tr>\n",
       "  </tbody>\n",
       "</table>\n",
       "</div>"
      ],
      "text/plain": [
       "   flight_id  departure_time formatted_time\n",
       "0          1             830          08:30\n",
       "1          2            1445          14:45\n",
       "2          3             120          01:20\n",
       "3          4            2359          23:59"
      ]
     },
     "execution_count": 7,
     "metadata": {},
     "output_type": "execute_result"
    }
   ],
   "source": [
    "cur.execute(\"create table flights(flight_id integer, departure_time integer)\")\n",
    "flights_data = [(1, 830), (2, 1445), (3, 120), (4, 2359)]\n",
    "cur.executemany(\"insert into flights values (?, ?)\", flights_data)\n",
    "\n",
    "# Tạo cột formatted_time từ departure_time (hhmm)\n",
    "cur.execute(\"\"\"\n",
    "    select \n",
    "        flight_id,\n",
    "        departure_time,\n",
    "        printf('%02d:%02d', departure_time / 100, departure_time % 100) as formatted_time\n",
    "    from flights\n",
    "\"\"\")\n",
    "flights_result = cur.fetchall()\n",
    "df_flights = pd.DataFrame(flights_result, columns=[\"flight_id\", \"departure_time\", \"formatted_time\"])\n",
    "df_flights"
   ]
  },
  {
   "cell_type": "markdown",
   "id": "33f597d8",
   "metadata": {},
   "source": [
    "### C4"
   ]
  },
  {
   "cell_type": "code",
   "execution_count": 8,
   "id": "d16339d3",
   "metadata": {},
   "outputs": [
    {
     "data": {
      "text/html": [
       "<div>\n",
       "<style scoped>\n",
       "    .dataframe tbody tr th:only-of-type {\n",
       "        vertical-align: middle;\n",
       "    }\n",
       "\n",
       "    .dataframe tbody tr th {\n",
       "        vertical-align: top;\n",
       "    }\n",
       "\n",
       "    .dataframe thead th {\n",
       "        text-align: right;\n",
       "    }\n",
       "</style>\n",
       "<table border=\"1\" class=\"dataframe\">\n",
       "  <thead>\n",
       "    <tr style=\"text-align: right;\">\n",
       "      <th></th>\n",
       "      <th>price</th>\n",
       "    </tr>\n",
       "  </thead>\n",
       "  <tbody>\n",
       "    <tr>\n",
       "      <th>0</th>\n",
       "      <td>115.23</td>\n",
       "    </tr>\n",
       "    <tr>\n",
       "      <th>1</th>\n",
       "      <td>115.79</td>\n",
       "    </tr>\n",
       "    <tr>\n",
       "      <th>2</th>\n",
       "      <td>80.87</td>\n",
       "    </tr>\n",
       "    <tr>\n",
       "      <th>3</th>\n",
       "      <td>82.75</td>\n",
       "    </tr>\n",
       "    <tr>\n",
       "      <th>4</th>\n",
       "      <td>85.88</td>\n",
       "    </tr>\n",
       "    <tr>\n",
       "      <th>5</th>\n",
       "      <td>300.00</td>\n",
       "    </tr>\n",
       "  </tbody>\n",
       "</table>\n",
       "</div>"
      ],
      "text/plain": [
       "    price\n",
       "0  115.23\n",
       "1  115.79\n",
       "2   80.87\n",
       "3   82.75\n",
       "4   85.88\n",
       "5  300.00"
      ]
     },
     "execution_count": 8,
     "metadata": {},
     "output_type": "execute_result"
    }
   ],
   "source": [
    "cur.execute(\"create table prices(price real)\")\n",
    "price_data = [\n",
    "    (115.23,), \n",
    "    (115.79,), \n",
    "    (80.87,), \n",
    "    (82.75,), \n",
    "    (85.88,), \n",
    "    (300.00,)\n",
    "]\n",
    "cur.executemany(\"insert into prices values (?)\", price_data)\n",
    "\n",
    "df_prices = pd.read_sql_query(\"select * from prices\", conn)\n",
    "\n",
    "# Tính MAD và tìm ngoại lệ\n",
    "median_price = df_prices[\"price\"].median()\n",
    "mad = (df_prices[\"price\"] - median_price).abs().median()\n",
    "threshold = 1.5 * mad\n",
    "outliers = df_prices[(df_prices[\"price\"] - median_price).abs() > threshold]\n",
    "\n",
    "df_prices"
   ]
  },
  {
   "cell_type": "code",
   "execution_count": 9,
   "id": "2c87bf52",
   "metadata": {},
   "outputs": [
    {
     "name": "stdout",
     "output_type": "stream",
     "text": [
      "Giá trị ngoại lai:\n",
      "\n"
     ]
    },
    {
     "data": {
      "text/html": [
       "<div>\n",
       "<style scoped>\n",
       "    .dataframe tbody tr th:only-of-type {\n",
       "        vertical-align: middle;\n",
       "    }\n",
       "\n",
       "    .dataframe tbody tr th {\n",
       "        vertical-align: top;\n",
       "    }\n",
       "\n",
       "    .dataframe thead th {\n",
       "        text-align: right;\n",
       "    }\n",
       "</style>\n",
       "<table border=\"1\" class=\"dataframe\">\n",
       "  <thead>\n",
       "    <tr style=\"text-align: right;\">\n",
       "      <th></th>\n",
       "      <th>price</th>\n",
       "    </tr>\n",
       "  </thead>\n",
       "  <tbody>\n",
       "    <tr>\n",
       "      <th>5</th>\n",
       "      <td>300.0</td>\n",
       "    </tr>\n",
       "  </tbody>\n",
       "</table>\n",
       "</div>"
      ],
      "text/plain": [
       "   price\n",
       "5  300.0"
      ]
     },
     "execution_count": 9,
     "metadata": {},
     "output_type": "execute_result"
    }
   ],
   "source": [
    "print(\"Giá trị ngoại lai:\\n\") \n",
    "outliers"
   ]
  },
  {
   "cell_type": "markdown",
   "id": "118acac3",
   "metadata": {},
   "source": [
    "### C5"
   ]
  },
  {
   "cell_type": "code",
   "execution_count": 10,
   "id": "5ec9e837",
   "metadata": {},
   "outputs": [
    {
     "data": {
      "text/html": [
       "<div>\n",
       "<style scoped>\n",
       "    .dataframe tbody tr th:only-of-type {\n",
       "        vertical-align: middle;\n",
       "    }\n",
       "\n",
       "    .dataframe tbody tr th {\n",
       "        vertical-align: top;\n",
       "    }\n",
       "\n",
       "    .dataframe thead th {\n",
       "        text-align: right;\n",
       "    }\n",
       "</style>\n",
       "<table border=\"1\" class=\"dataframe\">\n",
       "  <thead>\n",
       "    <tr style=\"text-align: right;\">\n",
       "      <th></th>\n",
       "      <th>id</th>\n",
       "      <th>last_name</th>\n",
       "      <th>weight</th>\n",
       "      <th>height</th>\n",
       "    </tr>\n",
       "  </thead>\n",
       "  <tbody>\n",
       "    <tr>\n",
       "      <th>0</th>\n",
       "      <td>1</td>\n",
       "      <td>Nguyen</td>\n",
       "      <td>60.0</td>\n",
       "      <td>170.0</td>\n",
       "    </tr>\n",
       "    <tr>\n",
       "      <th>1</th>\n",
       "      <td>2</td>\n",
       "      <td>Nguyen</td>\n",
       "      <td>62.0</td>\n",
       "      <td>172.0</td>\n",
       "    </tr>\n",
       "    <tr>\n",
       "      <th>2</th>\n",
       "      <td>3</td>\n",
       "      <td>Tran</td>\n",
       "      <td>75.0</td>\n",
       "      <td>180.0</td>\n",
       "    </tr>\n",
       "    <tr>\n",
       "      <th>3</th>\n",
       "      <td>4</td>\n",
       "      <td>Le</td>\n",
       "      <td>80.0</td>\n",
       "      <td>178.0</td>\n",
       "    </tr>\n",
       "  </tbody>\n",
       "</table>\n",
       "</div>"
      ],
      "text/plain": [
       "   id last_name  weight  height\n",
       "0   1    Nguyen    60.0   170.0\n",
       "1   2    Nguyen    62.0   172.0\n",
       "2   3      Tran    75.0   180.0\n",
       "3   4        Le    80.0   178.0"
      ]
     },
     "execution_count": 10,
     "metadata": {},
     "output_type": "execute_result"
    }
   ],
   "source": [
    "cur.execute(\"create table Patient(id integer, last_name text, weight real, height real)\")\n",
    "patient_data = [\n",
    "    (1, \"Nguyen\", 60, 170),\n",
    "    (2, \"Nguyen\", 62, 172),\n",
    "    (3, \"Tran\", 75, 180),\n",
    "    (4, \"Le\", 80, 178)\n",
    "]\n",
    "cur.executemany(\"insert into Patient values (?, ?, ?, ?)\", patient_data)\n",
    "\n",
    "df_patients = pd.read_sql_query(\"select * from Patient\", conn)\n",
    "df_patients"
   ]
  },
  {
   "cell_type": "code",
   "execution_count": 11,
   "id": "8f0d8235",
   "metadata": {},
   "outputs": [
    {
     "data": {
      "text/html": [
       "<div>\n",
       "<style scoped>\n",
       "    .dataframe tbody tr th:only-of-type {\n",
       "        vertical-align: middle;\n",
       "    }\n",
       "\n",
       "    .dataframe tbody tr th {\n",
       "        vertical-align: top;\n",
       "    }\n",
       "\n",
       "    .dataframe thead th {\n",
       "        text-align: right;\n",
       "    }\n",
       "</style>\n",
       "<table border=\"1\" class=\"dataframe\">\n",
       "  <thead>\n",
       "    <tr style=\"text-align: right;\">\n",
       "      <th></th>\n",
       "      <th>id_1</th>\n",
       "      <th>id_2</th>\n",
       "      <th>last_name</th>\n",
       "      <th>weight_1</th>\n",
       "      <th>weight_2</th>\n",
       "    </tr>\n",
       "  </thead>\n",
       "  <tbody>\n",
       "    <tr>\n",
       "      <th>0</th>\n",
       "      <td>1</td>\n",
       "      <td>2</td>\n",
       "      <td>Nguyen</td>\n",
       "      <td>60.0</td>\n",
       "      <td>62.0</td>\n",
       "    </tr>\n",
       "  </tbody>\n",
       "</table>\n",
       "</div>"
      ],
      "text/plain": [
       "   id_1  id_2 last_name  weight_1  weight_2\n",
       "0     1     2    Nguyen      60.0      62.0"
      ]
     },
     "execution_count": 11,
     "metadata": {},
     "output_type": "execute_result"
    }
   ],
   "source": [
    "# Khoảng sai số chấp nhận cho weight (ví dụ ±1kg)\n",
    "WEIGHT_TOLERANCE = 3.0\n",
    "\n",
    "pairs = []\n",
    "for (i, p1), (j, p2) in combinations(df_patients.iterrows(), 2):\n",
    "    # So sánh theo khoảng cách Boolean:\n",
    "    same_last_name = p1['last_name'] == p2['last_name']\n",
    "    similar_weight = abs(p1['weight'] - p2['weight']) <= WEIGHT_TOLERANCE\n",
    "\n",
    "    if same_last_name and similar_weight:\n",
    "        pairs.append((p1['id'], p2['id'], p1['last_name'], p1['weight'], p2['weight']))\n",
    "\n",
    "df_pairs = pd.DataFrame(pairs, columns=[\"id_1\", \"id_2\", \"last_name\", \"weight_1\", \"weight_2\"])\n",
    "df_pairs"
   ]
  },
  {
   "cell_type": "markdown",
   "id": "392c317b",
   "metadata": {},
   "source": [
    "### Đóng kết nối"
   ]
  },
  {
   "cell_type": "code",
   "execution_count": 12,
   "id": "6cd702d1",
   "metadata": {},
   "outputs": [],
   "source": [
    "conn.close()"
   ]
  }
 ],
 "metadata": {
  "kernelspec": {
   "display_name": "Python 3",
   "language": "python",
   "name": "python3"
  },
  "language_info": {
   "codemirror_mode": {
    "name": "ipython",
    "version": 3
   },
   "file_extension": ".py",
   "mimetype": "text/x-python",
   "name": "python",
   "nbconvert_exporter": "python",
   "pygments_lexer": "ipython3",
   "version": "3.11.5"
  }
 },
 "nbformat": 4,
 "nbformat_minor": 5
}
